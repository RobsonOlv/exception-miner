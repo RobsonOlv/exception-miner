{
 "cells": [
  {
   "cell_type": "code",
   "execution_count": 63,
   "metadata": {},
   "outputs": [],
   "source": [
    "import glob \n",
    "import pandas as pd \n",
    "import matplotlib.pyplot as plt\n",
    "import seaborn as sns\n",
    "import numpy as np\n",
    "\n",
    "csv_files = glob.glob(\"../output/parser/**/*.csv\")\n",
    "\n",
    "dfs = []\n",
    "def strip_string(x):\n",
    "    if isinstance(x, str):\n",
    "        return x.strip()\n",
    "    return x\n",
    "\n",
    "for csv in csv_files:\n",
    "    df = pd.read_csv(csv)\n",
    "    \n",
    "    \n",
    "    \n",
    "    df.replace({\"True\": 1, \"False\": 0, \"TRUE\": 1, \"FALSE\": 0, \"true\": 1, \"false\": 0}, inplace=True)\n",
    "    \n",
    "    # Extract 'language' and 'projeto' from 'file' column\n",
    "    df['language'], df['projeto'] = zip(*df['file'].apply(lambda x: (x.split('/')[x.split('/').index('projects') + 1], x.split('/')[x.split('/').index('projects') + 2]) if 'projects' in x else (None, None)))\n",
    "    \n",
    "    \n",
    "    dfs.append(df)\n"
   ]
  },
  {
   "cell_type": "code",
   "execution_count": 64,
   "metadata": {},
   "outputs": [
    {
     "name": "stdout",
     "output_type": "stream",
     "text": [
      "False\n",
      "False\n",
      "False\n",
      "False\n",
      "False\n",
      "False\n",
      "False\n",
      "False\n",
      "False\n",
      "False\n",
      "False\n",
      "False\n",
      "False\n",
      "False\n",
      "False\n",
      "False\n",
      "False\n",
      "False\n",
      "False\n",
      "False\n",
      "False\n",
      "False\n"
     ]
    }
   ],
   "source": [
    "for df in dfs:\n",
    "    # Check if any cell contains \"True\" or \"False\", ignoring case and spaces\n",
    "    contains_true_false = df.applymap(lambda x: x.strip().lower() if isinstance(x, str) else x).isin([\"true\", \"false\"]).any().any()\n",
    "\n",
    "    print(contains_true_false)"
   ]
  },
  {
   "cell_type": "code",
   "execution_count": 65,
   "metadata": {},
   "outputs": [
    {
     "name": "stdout",
     "output_type": "stream",
     "text": [
      "                                                  file function  \\\n",
      "333  /home/tales/Documentos/dev/projeto/exception-m...    check   \n",
      "\n",
      "                                             func_body  n_try_catch_ts  \\\n",
      "333  async function check(checks: CheckFunction[]):...               0   \n",
      "\n",
      "     n_finally_ts str_catch_identifiers_ts str_catch_block_ts  \\\n",
      "333             0                      NaN                NaN   \n",
      "\n",
      "     n_generic_catch_ts  n_useless_catch_ts  n_count_empty_catch_ts  ...  \\\n",
      "333                   0                   0                       0  ...   \n",
      "\n",
      "     str_throw_identifiers_ts  n_throw_ts n_generic_throw_ts  \\\n",
      "333                       NaN           1                  0   \n",
      "\n",
      "     n_non_generic_throw_ts  n_not_recommended_throw_ts  \\\n",
      "333                       0                           0   \n",
      "\n",
      "     n_captures_try_catch_throw_ts  n_try_return_ts  n_nested_try_ts  \\\n",
      "333                              0                0                0   \n",
      "\n",
      "     language    projeto  \n",
      "333        ts  capacitor  \n",
      "\n",
      "[1 rows x 22 columns]\n"
     ]
    }
   ],
   "source": [
    "last_line = dfs[0].tail(1)\n",
    "print(last_line)"
   ]
  },
  {
   "cell_type": "code",
   "execution_count": 66,
   "metadata": {},
   "outputs": [],
   "source": [
    "# Lista de nomes de colunas\n",
    "column_names = [\"projeto\", \"language\",'file','function','func_body','n_try_catch_ts', 'n_finally_ts',\n",
    "        'n_generic_catch_ts',\n",
    "       'n_useless_catch_ts', 'n_count_empty_catch_ts',\n",
    "       'n_count_catch_reassigning_identifier_ts', 'n_wrapped_catch_ts', 'n_throw_ts', 'n_generic_throw_ts',\n",
    "       'n_non_generic_throw_ts', 'n_not_recommended_throw_ts',\n",
    "       'n_captures_try_catch_throw_ts', 'n_try_return_ts', 'n_nested_try_ts' , 'n_try_catch_java',\n",
    "       'n_finally_java',\n",
    "       'n_generic_catch_java', 'n_useless_catch_java', 'n_wrapped_catch_java',\n",
    "       'n_count_empty_catch_java', 'n_count_catch_reassigning_identifier_java',\n",
    "       'str_throw_identifiers_java', 'n_throw_java', 'n_generic_throw_java',\n",
    "       'n_non_generic_throw_java', 'n_captures_try_catch_throw_java',\n",
    "       'n_try_return_java', 'n_nested_try_java', 'throw_within_finally_java',\n",
    "       'throwing_null_pointer_exception_java',\n",
    "       'generic_exception_handling_java', 'instanceof_in_catch_java',\n",
    "       'n_instanceof_in_catch_java', 'destructive_wrapping_java',\n",
    "       'cause_in_catch_java', 'n_cout_get_cause_in_catch_java', \n",
    "       'n_try_except', 'n_try_pass', 'n_finally', 'n_generic_except',\n",
    "       'n_raise', 'n_captures_broad_raise', 'n_captures_try_except_raise',\n",
    "       'n_captures_misplaced_bare_raise', 'n_try_else', 'n_try_return',\n",
    "       'n_nested_try', 'n_bare_except', 'n_bare_raise_finally']\n",
    "\n",
    "# Mapeamento de linguagens\n",
    "language_mapping = {\"py\": \"Python\", \"java\": \"Java\", \"ts\": \"TypeScript\", \"tsx\": \"TypeScript\"}"
   ]
  },
  {
   "cell_type": "code",
   "execution_count": 67,
   "metadata": {},
   "outputs": [],
   "source": [
    "# Concatenate all dataframes in dfs\n",
    "df_concat = pd.concat(dfs, ignore_index=True)\n",
    "\n",
    "# Keep only the columns specified in column_names\n",
    "df_concat = df_concat[column_names]\n",
    "\n",
    "# Map the 'language' column to the full language names\n",
    "df_concat['language'] = df_concat['language'].map(language_mapping)"
   ]
  },
  {
   "cell_type": "code",
   "execution_count": 68,
   "metadata": {},
   "outputs": [],
   "source": [
    "df_concat.to_csv('new_dataframe.csv', index=False)"
   ]
  },
  {
   "cell_type": "code",
   "execution_count": 59,
   "metadata": {},
   "outputs": [
    {
     "name": "stdout",
     "output_type": "stream",
     "text": [
      "0        NaN\n",
      "1        NaN\n",
      "2        NaN\n",
      "3        NaN\n",
      "4        NaN\n",
      "        ... \n",
      "53154    0.0\n",
      "53155    0.0\n",
      "53156    0.0\n",
      "53157    0.0\n",
      "53158    0.0\n",
      "Name: n_bare_raise_finally, Length: 53159, dtype: float64\n"
     ]
    }
   ],
   "source": [
    "print(df_concat.iloc[:, -1])"
   ]
  }
 ],
 "metadata": {
  "kernelspec": {
   "display_name": "projeto",
   "language": "python",
   "name": "python3"
  },
  "language_info": {
   "codemirror_mode": {
    "name": "ipython",
    "version": 3
   },
   "file_extension": ".py",
   "mimetype": "text/x-python",
   "name": "python",
   "nbconvert_exporter": "python",
   "pygments_lexer": "ipython3",
   "version": "3.10.14"
  }
 },
 "nbformat": 4,
 "nbformat_minor": 2
}
